{
  "nbformat": 4,
  "nbformat_minor": 0,
  "metadata": {
    "colab": {
      "name": "nodes.ipynb",
      "provenance": [],
      "authorship_tag": "ABX9TyNrCDEIHJ7SxwJY6rSYpWoj",
      "include_colab_link": true
    },
    "kernelspec": {
      "name": "python3",
      "display_name": "Python 3"
    },
    "language_info": {
      "name": "python"
    }
  },
  "cells": [
    {
      "cell_type": "markdown",
      "metadata": {
        "id": "view-in-github",
        "colab_type": "text"
      },
      "source": [
        "<a href=\"https://colab.research.google.com/github/hlnynhi/PCAP/blob/main/nodes.ipynb\" target=\"_parent\"><img src=\"https://colab.research.google.com/assets/colab-badge.svg\" alt=\"Open In Colab\"/></a>"
      ]
    },
    {
      "cell_type": "code",
      "metadata": {
        "colab": {
          "base_uri": "https://localhost:8080/"
        },
        "id": "T_0VqxkZ705E",
        "outputId": "7ccd5998-167b-4381-80ae-2b0d5327eed0"
      },
      "source": [
        "import numpy as np # linear algebra\n",
        "import pandas as pd # data processing, CSV file I/O (e.g. pd.read_csv)\n",
        "import matplotlib.pyplot as plt\n",
        "import seaborn as sns\n",
        "%matplotlib inline\n",
        "df = pd.read_csv(\"https://raw.githubusercontent.com/hlnynhi/PCAP/main/Traffic-data/nodes.csv\", index_col=\"_id\")\n",
        "\n",
        "print(df.head())\n",
        "print(df.shape)\n"
      ],
      "execution_count": 7,
      "outputs": [
        {
          "output_type": "stream",
          "name": "stdout",
          "text": [
            "                 long        lat\n",
            "_id                             \n",
            "366367223  106.629056  10.804243\n",
            "366367233  106.709701  10.771110\n",
            "366367242  106.737189  10.709337\n",
            "366367274  106.760081  10.854489\n",
            "366367285  106.721163  10.804994\n",
            "(577967, 2)\n"
          ]
        }
      ]
    },
    {
      "cell_type": "code",
      "metadata": {
        "colab": {
          "base_uri": "https://localhost:8080/",
          "height": 418
        },
        "id": "nSzgZc71PXwc",
        "outputId": "8cb887c9-0e0c-4029-8c26-42c4ea99d6ac"
      },
      "source": [
        "nodes_sort=nodes.sort_values(by='long')\n",
        "nodes_sort"
      ],
      "execution_count": 5,
      "outputs": [
        {
          "output_type": "execute_result",
          "data": {
            "text/html": [
              "<div>\n",
              "<style scoped>\n",
              "    .dataframe tbody tr th:only-of-type {\n",
              "        vertical-align: middle;\n",
              "    }\n",
              "\n",
              "    .dataframe tbody tr th {\n",
              "        vertical-align: top;\n",
              "    }\n",
              "\n",
              "    .dataframe thead th {\n",
              "        text-align: right;\n",
              "    }\n",
              "</style>\n",
              "<table border=\"1\" class=\"dataframe\">\n",
              "  <thead>\n",
              "    <tr style=\"text-align: right;\">\n",
              "      <th></th>\n",
              "      <th>_id</th>\n",
              "      <th>long</th>\n",
              "      <th>lat</th>\n",
              "    </tr>\n",
              "  </thead>\n",
              "  <tbody>\n",
              "    <tr>\n",
              "      <th>58543</th>\n",
              "      <td>367753329</td>\n",
              "      <td>106.536005</td>\n",
              "      <td>10.714025</td>\n",
              "    </tr>\n",
              "    <tr>\n",
              "      <th>85931</th>\n",
              "      <td>1854295533</td>\n",
              "      <td>106.536006</td>\n",
              "      <td>10.718876</td>\n",
              "    </tr>\n",
              "    <tr>\n",
              "      <th>58544</th>\n",
              "      <td>367753348</td>\n",
              "      <td>106.536007</td>\n",
              "      <td>10.714428</td>\n",
              "    </tr>\n",
              "    <tr>\n",
              "      <th>58545</th>\n",
              "      <td>367753398</td>\n",
              "      <td>106.536015</td>\n",
              "      <td>10.716888</td>\n",
              "    </tr>\n",
              "    <tr>\n",
              "      <th>41441</th>\n",
              "      <td>367515274</td>\n",
              "      <td>106.536016</td>\n",
              "      <td>10.789476</td>\n",
              "    </tr>\n",
              "    <tr>\n",
              "      <th>...</th>\n",
              "      <td>...</td>\n",
              "      <td>...</td>\n",
              "      <td>...</td>\n",
              "    </tr>\n",
              "    <tr>\n",
              "      <th>263569</th>\n",
              "      <td>5153241519</td>\n",
              "      <td>106.867970</td>\n",
              "      <td>10.872766</td>\n",
              "    </tr>\n",
              "    <tr>\n",
              "      <th>183533</th>\n",
              "      <td>3704736806</td>\n",
              "      <td>106.867971</td>\n",
              "      <td>10.728268</td>\n",
              "    </tr>\n",
              "    <tr>\n",
              "      <th>75394</th>\n",
              "      <td>1593310040</td>\n",
              "      <td>106.867978</td>\n",
              "      <td>10.743812</td>\n",
              "    </tr>\n",
              "    <tr>\n",
              "      <th>39252</th>\n",
              "      <td>367503051</td>\n",
              "      <td>106.867981</td>\n",
              "      <td>10.809432</td>\n",
              "    </tr>\n",
              "    <tr>\n",
              "      <th>428347</th>\n",
              "      <td>5735312295</td>\n",
              "      <td>106.867994</td>\n",
              "      <td>10.805678</td>\n",
              "    </tr>\n",
              "  </tbody>\n",
              "</table>\n",
              "<p>577967 rows × 3 columns</p>\n",
              "</div>"
            ],
            "text/plain": [
              "               _id        long        lat\n",
              "58543    367753329  106.536005  10.714025\n",
              "85931   1854295533  106.536006  10.718876\n",
              "58544    367753348  106.536007  10.714428\n",
              "58545    367753398  106.536015  10.716888\n",
              "41441    367515274  106.536016  10.789476\n",
              "...            ...         ...        ...\n",
              "263569  5153241519  106.867970  10.872766\n",
              "183533  3704736806  106.867971  10.728268\n",
              "75394   1593310040  106.867978  10.743812\n",
              "39252    367503051  106.867981  10.809432\n",
              "428347  5735312295  106.867994  10.805678\n",
              "\n",
              "[577967 rows x 3 columns]"
            ]
          },
          "metadata": {},
          "execution_count": 5
        }
      ]
    }
  ]
}