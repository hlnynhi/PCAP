{
  "nbformat": 4,
  "nbformat_minor": 0,
  "metadata": {
    "colab": {
      "name": "streets.ipynb",
      "provenance": [],
      "authorship_tag": "ABX9TyNDLVXG+sYbCkgJULI7TP4D",
      "include_colab_link": true
    },
    "kernelspec": {
      "name": "python3",
      "display_name": "Python 3"
    },
    "language_info": {
      "name": "python"
    }
  },
  "cells": [
    {
      "cell_type": "markdown",
      "metadata": {
        "id": "view-in-github",
        "colab_type": "text"
      },
      "source": [
        "<a href=\"https://colab.research.google.com/github/hlnynhi/PCAP/blob/main/streets.ipynb\" target=\"_parent\"><img src=\"https://colab.research.google.com/assets/colab-badge.svg\" alt=\"Open In Colab\"/></a>"
      ]
    },
    {
      "cell_type": "code",
      "metadata": {
        "colab": {
          "base_uri": "https://localhost:8080/"
        },
        "id": "RKZdYgeW-Clh",
        "outputId": "0153623e-c9de-4b48-bc21-590419df32f7"
      },
      "source": [
        "import numpy as np # linear algebra\n",
        "import pandas as pd # data processing, CSV file I/O (e.g. pd.read_csv)\n",
        "import matplotlib.pyplot as plt\n",
        "import seaborn as sns\n",
        "%matplotlib inline\n",
        "df = pd.read_csv(\"https://raw.githubusercontent.com/hlnynhi/PCAP/main/Traffic-data/nodes.csv\", index_col=\"_id\")\n",
        "\n",
        "print(df.head())\n",
        "print(df.shape)\n"
      ],
      "execution_count": 9,
      "outputs": [
        {
          "output_type": "stream",
          "name": "stdout",
          "text": [
            "                 long        lat\n",
            "_id                             \n",
            "366367223  106.629056  10.804243\n",
            "366367233  106.709701  10.771110\n",
            "366367242  106.737189  10.709337\n",
            "366367274  106.760081  10.854489\n",
            "366367285  106.721163  10.804994\n",
            "(577967, 2)\n"
          ]
        }
      ]
    },
    {
      "cell_type": "code",
      "metadata": {
        "colab": {
          "base_uri": "https://localhost:8080/",
          "height": 418
        },
        "id": "OvAu27XdNqiy",
        "outputId": "af75b399-7756-422f-eb12-2c0e6c042473"
      },
      "source": [
        "streets_sort_level=streets.sort_values(by='level')\n",
        "streets_sort_level"
      ],
      "execution_count": 8,
      "outputs": [
        {
          "output_type": "execute_result",
          "data": {
            "text/html": [
              "<div>\n",
              "<style scoped>\n",
              "    .dataframe tbody tr th:only-of-type {\n",
              "        vertical-align: middle;\n",
              "    }\n",
              "\n",
              "    .dataframe tbody tr th {\n",
              "        vertical-align: top;\n",
              "    }\n",
              "\n",
              "    .dataframe thead th {\n",
              "        text-align: right;\n",
              "    }\n",
              "</style>\n",
              "<table border=\"1\" class=\"dataframe\">\n",
              "  <thead>\n",
              "    <tr style=\"text-align: right;\">\n",
              "      <th></th>\n",
              "      <th>_id</th>\n",
              "      <th>level</th>\n",
              "      <th>max_velocity</th>\n",
              "      <th>name</th>\n",
              "      <th>type</th>\n",
              "    </tr>\n",
              "  </thead>\n",
              "  <tbody>\n",
              "    <tr>\n",
              "      <th>0</th>\n",
              "      <td>31096786</td>\n",
              "      <td>1</td>\n",
              "      <td>80.0</td>\n",
              "      <td>Quốc Lộ 1</td>\n",
              "      <td>trunk</td>\n",
              "    </tr>\n",
              "    <tr>\n",
              "      <th>3548</th>\n",
              "      <td>466364979</td>\n",
              "      <td>1</td>\n",
              "      <td>60.0</td>\n",
              "      <td>Võ Văn Kiệt</td>\n",
              "      <td>trunk</td>\n",
              "    </tr>\n",
              "    <tr>\n",
              "      <th>959</th>\n",
              "      <td>152067205</td>\n",
              "      <td>1</td>\n",
              "      <td>NaN</td>\n",
              "      <td>Vòng xoay An Lạc</td>\n",
              "      <td>trunk</td>\n",
              "    </tr>\n",
              "    <tr>\n",
              "      <th>960</th>\n",
              "      <td>152067208</td>\n",
              "      <td>1</td>\n",
              "      <td>60.0</td>\n",
              "      <td>Quốc lộ 1</td>\n",
              "      <td>trunk</td>\n",
              "    </tr>\n",
              "    <tr>\n",
              "      <th>1014</th>\n",
              "      <td>165367638</td>\n",
              "      <td>1</td>\n",
              "      <td>60.0</td>\n",
              "      <td>Hầm sông Sài Gòn</td>\n",
              "      <td>trunk</td>\n",
              "    </tr>\n",
              "    <tr>\n",
              "      <th>...</th>\n",
              "      <td>...</td>\n",
              "      <td>...</td>\n",
              "      <td>...</td>\n",
              "      <td>...</td>\n",
              "      <td>...</td>\n",
              "    </tr>\n",
              "    <tr>\n",
              "      <th>1021</th>\n",
              "      <td>165919731</td>\n",
              "      <td>4</td>\n",
              "      <td>NaN</td>\n",
              "      <td>Đường dẫn Cầu Thủ Thiêm</td>\n",
              "      <td>tertiary</td>\n",
              "    </tr>\n",
              "    <tr>\n",
              "      <th>3458</th>\n",
              "      <td>462901272</td>\n",
              "      <td>4</td>\n",
              "      <td>NaN</td>\n",
              "      <td>Đường số 18B</td>\n",
              "      <td>unclassified</td>\n",
              "    </tr>\n",
              "    <tr>\n",
              "      <th>3459</th>\n",
              "      <td>462968806</td>\n",
              "      <td>4</td>\n",
              "      <td>40.0</td>\n",
              "      <td>NaN</td>\n",
              "      <td>tertiary_link</td>\n",
              "    </tr>\n",
              "    <tr>\n",
              "      <th>3445</th>\n",
              "      <td>460336755</td>\n",
              "      <td>4</td>\n",
              "      <td>NaN</td>\n",
              "      <td>Số 7</td>\n",
              "      <td>tertiary</td>\n",
              "    </tr>\n",
              "    <tr>\n",
              "      <th>5552</th>\n",
              "      <td>658328101</td>\n",
              "      <td>4</td>\n",
              "      <td>NaN</td>\n",
              "      <td>Võ Văn Tần</td>\n",
              "      <td>tertiary</td>\n",
              "    </tr>\n",
              "  </tbody>\n",
              "</table>\n",
              "<p>5553 rows × 5 columns</p>\n",
              "</div>"
            ],
            "text/plain": [
              "            _id  level  max_velocity                     name           type\n",
              "0      31096786      1          80.0                Quốc Lộ 1          trunk\n",
              "3548  466364979      1          60.0              Võ Văn Kiệt          trunk\n",
              "959   152067205      1           NaN         Vòng xoay An Lạc          trunk\n",
              "960   152067208      1          60.0                Quốc lộ 1          trunk\n",
              "1014  165367638      1          60.0         Hầm sông Sài Gòn          trunk\n",
              "...         ...    ...           ...                      ...            ...\n",
              "1021  165919731      4           NaN  Đường dẫn Cầu Thủ Thiêm       tertiary\n",
              "3458  462901272      4           NaN             Đường số 18B   unclassified\n",
              "3459  462968806      4          40.0                      NaN  tertiary_link\n",
              "3445  460336755      4           NaN                     Số 7       tertiary\n",
              "5552  658328101      4           NaN               Võ Văn Tần       tertiary\n",
              "\n",
              "[5553 rows x 5 columns]"
            ]
          },
          "metadata": {},
          "execution_count": 8
        }
      ]
    }
  ]
}