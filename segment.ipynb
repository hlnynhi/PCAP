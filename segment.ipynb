{
  "nbformat": 4,
  "nbformat_minor": 0,
  "metadata": {
    "colab": {
      "name": "segment.ipynb",
      "provenance": [],
      "authorship_tag": "ABX9TyPOhDa984HvAsNN1kdtnCJu",
      "include_colab_link": true
    },
    "kernelspec": {
      "name": "python3",
      "display_name": "Python 3"
    },
    "language_info": {
      "name": "python"
    }
  },
  "cells": [
    {
      "cell_type": "markdown",
      "metadata": {
        "id": "view-in-github",
        "colab_type": "text"
      },
      "source": [
        "<a href=\"https://colab.research.google.com/github/hlnynhi/PCAP/blob/main/segment.ipynb\" target=\"_parent\"><img src=\"https://colab.research.google.com/assets/colab-badge.svg\" alt=\"Open In Colab\"/></a>"
      ]
    },
    {
      "cell_type": "code",
      "metadata": {
        "colab": {
          "base_uri": "https://localhost:8080/"
        },
        "id": "0gPgSTRx93wk",
        "outputId": "90ebed0d-b9e1-4c71-83f8-42b14f3fd22b"
      },
      "source": [
        "import numpy as np # linear algebra\n",
        "import pandas as pd # data processing, CSV file I/O (e.g. pd.read_csv)\n",
        "import matplotlib.pyplot as plt\n",
        "import seaborn as sns\n",
        "%matplotlib inline\n",
        "df = pd.read_csv(\"https://raw.githubusercontent.com/hlnynhi/PCAP/main/Traffic-data/segment_status.csv\", index_col=\"_id\", parse_dates=[\"updated_at\"])\n",
        "\n",
        "print(df.head())\n",
        "df.shape\n"
      ],
      "execution_count": 20,
      "outputs": [
        {
          "output_type": "stream",
          "name": "stdout",
          "text": [
            "                          updated_at  segment_id  velocity\n",
            "_id                                                       \n",
            "0   2020-07-03 14:55:31.869000+00:00       24845        20\n",
            "1   2020-07-03 15:02:56.048000+00:00       33923        10\n",
            "2   2020-07-04 08:15:52.696000+00:00       33824         5\n",
            "3   2020-07-04 08:15:59.903000+00:00       33824         5\n",
            "4   2020-07-04 08:16:08.201000+00:00       33824         5\n"
          ]
        },
        {
          "output_type": "execute_result",
          "data": {
            "text/plain": [
              "(90938, 3)"
            ]
          },
          "metadata": {},
          "execution_count": 20
        }
      ]
    },
    {
      "cell_type": "code",
      "metadata": {
        "colab": {
          "base_uri": "https://localhost:8080/",
          "height": 418
        },
        "id": "H9GMKvj_PYi3",
        "outputId": "a9fed58f-0efb-4270-9de8-a49ec1f29d76"
      },
      "source": [
        "segment_status_sort=segment_status.sort_values(by='velocity')\n",
        "segment_status_sort"
      ],
      "execution_count": 17,
      "outputs": [
        {
          "output_type": "execute_result",
          "data": {
            "text/html": [
              "<div>\n",
              "<style scoped>\n",
              "    .dataframe tbody tr th:only-of-type {\n",
              "        vertical-align: middle;\n",
              "    }\n",
              "\n",
              "    .dataframe tbody tr th {\n",
              "        vertical-align: top;\n",
              "    }\n",
              "\n",
              "    .dataframe thead th {\n",
              "        text-align: right;\n",
              "    }\n",
              "</style>\n",
              "<table border=\"1\" class=\"dataframe\">\n",
              "  <thead>\n",
              "    <tr style=\"text-align: right;\">\n",
              "      <th></th>\n",
              "      <th>_id</th>\n",
              "      <th>updated_at</th>\n",
              "      <th>segment_id</th>\n",
              "      <th>velocity</th>\n",
              "    </tr>\n",
              "  </thead>\n",
              "  <tbody>\n",
              "    <tr>\n",
              "      <th>32416</th>\n",
              "      <td>32416</td>\n",
              "      <td>2020-08-03T00:20:31.797Z</td>\n",
              "      <td>29164</td>\n",
              "      <td>0</td>\n",
              "    </tr>\n",
              "    <tr>\n",
              "      <th>12828</th>\n",
              "      <td>12828</td>\n",
              "      <td>2020-08-03T00:05:30.888Z</td>\n",
              "      <td>83584</td>\n",
              "      <td>0</td>\n",
              "    </tr>\n",
              "    <tr>\n",
              "      <th>8119</th>\n",
              "      <td>8119</td>\n",
              "      <td>2020-08-03T00:02:28.071Z</td>\n",
              "      <td>6536</td>\n",
              "      <td>0</td>\n",
              "    </tr>\n",
              "    <tr>\n",
              "      <th>7466</th>\n",
              "      <td>7466</td>\n",
              "      <td>2020-08-02T23:59:32.926Z</td>\n",
              "      <td>62128</td>\n",
              "      <td>0</td>\n",
              "    </tr>\n",
              "    <tr>\n",
              "      <th>33760</th>\n",
              "      <td>33760</td>\n",
              "      <td>2020-08-03T00:23:27.901Z</td>\n",
              "      <td>5562</td>\n",
              "      <td>0</td>\n",
              "    </tr>\n",
              "    <tr>\n",
              "      <th>...</th>\n",
              "      <td>...</td>\n",
              "      <td>...</td>\n",
              "      <td>...</td>\n",
              "      <td>...</td>\n",
              "    </tr>\n",
              "    <tr>\n",
              "      <th>50856</th>\n",
              "      <td>50856</td>\n",
              "      <td>2020-12-02T15:33:41.160Z</td>\n",
              "      <td>14409</td>\n",
              "      <td>199</td>\n",
              "    </tr>\n",
              "    <tr>\n",
              "      <th>42002</th>\n",
              "      <td>42002</td>\n",
              "      <td>2020-11-26T01:00:22.535Z</td>\n",
              "      <td>63453</td>\n",
              "      <td>199</td>\n",
              "    </tr>\n",
              "    <tr>\n",
              "      <th>52438</th>\n",
              "      <td>52438</td>\n",
              "      <td>2020-12-04T02:19:19.741Z</td>\n",
              "      <td>68714</td>\n",
              "      <td>200</td>\n",
              "    </tr>\n",
              "    <tr>\n",
              "      <th>49320</th>\n",
              "      <td>49320</td>\n",
              "      <td>2020-12-02T02:21:46.673Z</td>\n",
              "      <td>10099</td>\n",
              "      <td>200</td>\n",
              "    </tr>\n",
              "    <tr>\n",
              "      <th>58781</th>\n",
              "      <td>58781</td>\n",
              "      <td>2020-12-09T15:18:12.988Z</td>\n",
              "      <td>33201</td>\n",
              "      <td>200</td>\n",
              "    </tr>\n",
              "  </tbody>\n",
              "</table>\n",
              "<p>90938 rows × 4 columns</p>\n",
              "</div>"
            ],
            "text/plain": [
              "         _id                updated_at  segment_id  velocity\n",
              "32416  32416  2020-08-03T00:20:31.797Z       29164         0\n",
              "12828  12828  2020-08-03T00:05:30.888Z       83584         0\n",
              "8119    8119  2020-08-03T00:02:28.071Z        6536         0\n",
              "7466    7466  2020-08-02T23:59:32.926Z       62128         0\n",
              "33760  33760  2020-08-03T00:23:27.901Z        5562         0\n",
              "...      ...                       ...         ...       ...\n",
              "50856  50856  2020-12-02T15:33:41.160Z       14409       199\n",
              "42002  42002  2020-11-26T01:00:22.535Z       63453       199\n",
              "52438  52438  2020-12-04T02:19:19.741Z       68714       200\n",
              "49320  49320  2020-12-02T02:21:46.673Z       10099       200\n",
              "58781  58781  2020-12-09T15:18:12.988Z       33201       200\n",
              "\n",
              "[90938 rows x 4 columns]"
            ]
          },
          "metadata": {},
          "execution_count": 17
        }
      ]
    },
    {
      "cell_type": "code",
      "metadata": {
        "id": "CpPs9asddZH3"
      },
      "source": [
        "segReport_df = pd.read_csv(\"https://raw.githubusercontent.com/hlnynhi/PCAP/main/Traffic-data/segment_status.csv\", index_col=\"_id\", \n",
        "                            parse_dates=[\"updated_at\"])\n",
        "segment_df = pd.read_csv(\"https://raw.githubusercontent.com/hlnynhi/PCAP/main/Traffic-data/segments.csv\", index_col=\"_id\",\n",
        "                         parse_dates=[\"created_at\", \"updated_at\"])"
      ],
      "execution_count": 22,
      "outputs": []
    },
    {
      "cell_type": "code",
      "metadata": {
        "id": "4n8tJd3tdynv"
      },
      "source": [
        "from math import ceil\n",
        "\n",
        "def transform_LOS(segment_id, velocity):\n",
        "    max_velocity = segment_df.loc[segment_id, \"max_velocity\"]\n",
        "    if max_velocity is None:\n",
        "        max_velocity = 50\n",
        "    \n",
        "    # Transform to label\n",
        "    labels = [\"A\", \"B\", \"C\", \"D\", \"E\", \"F\"]\n",
        "    threshold = 35\n",
        "    if max_velocity >= 70:\n",
        "        threshold = 45\n",
        "    elif max_velocity >= 60:\n",
        "        threshold = 40\n",
        "\n",
        "    t = max(threshold - velocity, 0)\n",
        "    return labels[min(ceil(t / 5), 5)]\n",
        "\n",
        "def transform_report(row):\n",
        "    \"\"\"\n",
        "    @Params:\n",
        "        dt: Timestamp object of Pandas\n",
        "    @Return:\n",
        "        dict: {\"date\", \"period_{hour}_{00|30}\"}\n",
        "    \"\"\"\n",
        "    LOS = transform_LOS(row[\"segment_id\"], row[\"velocity\"])\n",
        "    dt = row[\"updated_at\"]\n",
        "    intervals = list(range(24))\n",
        "    h = dt.hour\n",
        "    m = \"00\" if dt.minute < 30 else \"30\"\n",
        "    p_name = f\"period_{h}_{m}\"\n",
        "    return dt.date(), dt.weekday(), p_name, LOS"
      ],
      "execution_count": 23,
      "outputs": []
    },
    {
      "cell_type": "code",
      "metadata": {
        "id": "KoO-iT3hd45X"
      },
      "source": [
        "dates = []\n",
        "weekdays = []\n",
        "p_names = []\n",
        "LOSes = []\n",
        "\n",
        "for _, row in segReport_df.iterrows():\n",
        "    date, weekday, p_name, LOS = transform_report(row)\n",
        "    dates.append(date)\n",
        "    weekdays.append(weekday)\n",
        "    p_names.append(p_name)\n",
        "    LOSes.append(LOS)\n",
        "\n",
        "segReport_df[\"date\"] = dates\n",
        "segReport_df[\"weekday\"] = weekdays\n",
        "segReport_df[\"period\"] = p_names\n",
        "segReport_df[\"LOS\"] = LOSes\n"
      ],
      "execution_count": 24,
      "outputs": []
    },
    {
      "cell_type": "code",
      "metadata": {
        "id": "APojYQ79d7vP"
      },
      "source": [
        "def major_voting(labels):\n",
        "    unique_labels = set(labels)\n",
        "    count_labels = [labels.count(label) for label in unique_labels]\n",
        "\n",
        "    sorted_labels = sorted(zip(unique_labels, count_labels), key=lambda x: x[1])\n",
        "    if len(sorted_labels) > 1 and sorted_labels[0][1] == sorted_labels[1][1]:\n",
        "        print(\"Oh no, many majors?\")\n",
        "    return sorted_labels[0][0]\n",
        "\n",
        "def mean_voting(labels):\n",
        "    l = [\"A\", \"B\", \"C\", \"D\", \"E\", \"F\"]\n",
        "    values = {\"A\":0, \"B\":1, \"C\":2, \"D\":3, \"E\":4, \"F\":5}\n",
        "    mean = sum(values[label] for label in labels) / len(labels)\n",
        "    return l[min(round(mean), 5)]"
      ],
      "execution_count": 25,
      "outputs": []
    },
    {
      "cell_type": "code",
      "metadata": {
        "colab": {
          "base_uri": "https://localhost:8080/",
          "height": 418
        },
        "id": "lUya4NtzeBQW",
        "outputId": "8c8cf862-c379-45ca-c14c-c8f399d827b8"
      },
      "source": [
        "compress_LOS = segReport_df.groupby(by=[\"segment_id\", \"date\", \"weekday\", \"period\"])[\"LOS\"].apply(list)\n",
        "compress_LOS = pd.DataFrame(compress_LOS).reset_index()\n",
        "compress_LOS[\"LOS\"] = compress_LOS[\"LOS\"].apply(mean_voting)\n",
        "compress_LOS"
      ],
      "execution_count": 26,
      "outputs": [
        {
          "output_type": "execute_result",
          "data": {
            "text/html": [
              "<div>\n",
              "<style scoped>\n",
              "    .dataframe tbody tr th:only-of-type {\n",
              "        vertical-align: middle;\n",
              "    }\n",
              "\n",
              "    .dataframe tbody tr th {\n",
              "        vertical-align: top;\n",
              "    }\n",
              "\n",
              "    .dataframe thead th {\n",
              "        text-align: right;\n",
              "    }\n",
              "</style>\n",
              "<table border=\"1\" class=\"dataframe\">\n",
              "  <thead>\n",
              "    <tr style=\"text-align: right;\">\n",
              "      <th></th>\n",
              "      <th>segment_id</th>\n",
              "      <th>date</th>\n",
              "      <th>weekday</th>\n",
              "      <th>period</th>\n",
              "      <th>LOS</th>\n",
              "    </tr>\n",
              "  </thead>\n",
              "  <tbody>\n",
              "    <tr>\n",
              "      <th>0</th>\n",
              "      <td>26</td>\n",
              "      <td>2021-04-16</td>\n",
              "      <td>4</td>\n",
              "      <td>period_0_30</td>\n",
              "      <td>A</td>\n",
              "    </tr>\n",
              "    <tr>\n",
              "      <th>1</th>\n",
              "      <td>33</td>\n",
              "      <td>2020-08-02</td>\n",
              "      <td>6</td>\n",
              "      <td>period_23_30</td>\n",
              "      <td>C</td>\n",
              "    </tr>\n",
              "    <tr>\n",
              "      <th>2</th>\n",
              "      <td>33</td>\n",
              "      <td>2020-08-03</td>\n",
              "      <td>0</td>\n",
              "      <td>period_0_00</td>\n",
              "      <td>D</td>\n",
              "    </tr>\n",
              "    <tr>\n",
              "      <th>3</th>\n",
              "      <td>67</td>\n",
              "      <td>2021-03-09</td>\n",
              "      <td>1</td>\n",
              "      <td>period_9_30</td>\n",
              "      <td>B</td>\n",
              "    </tr>\n",
              "    <tr>\n",
              "      <th>4</th>\n",
              "      <td>67</td>\n",
              "      <td>2021-03-23</td>\n",
              "      <td>1</td>\n",
              "      <td>period_9_30</td>\n",
              "      <td>B</td>\n",
              "    </tr>\n",
              "    <tr>\n",
              "      <th>...</th>\n",
              "      <td>...</td>\n",
              "      <td>...</td>\n",
              "      <td>...</td>\n",
              "      <td>...</td>\n",
              "      <td>...</td>\n",
              "    </tr>\n",
              "    <tr>\n",
              "      <th>33436</th>\n",
              "      <td>84529</td>\n",
              "      <td>2021-01-05</td>\n",
              "      <td>1</td>\n",
              "      <td>period_8_00</td>\n",
              "      <td>F</td>\n",
              "    </tr>\n",
              "    <tr>\n",
              "      <th>33437</th>\n",
              "      <td>84533</td>\n",
              "      <td>2021-01-09</td>\n",
              "      <td>5</td>\n",
              "      <td>period_13_30</td>\n",
              "      <td>F</td>\n",
              "    </tr>\n",
              "    <tr>\n",
              "      <th>33438</th>\n",
              "      <td>84533</td>\n",
              "      <td>2021-04-22</td>\n",
              "      <td>3</td>\n",
              "      <td>period_5_00</td>\n",
              "      <td>F</td>\n",
              "    </tr>\n",
              "    <tr>\n",
              "      <th>33439</th>\n",
              "      <td>84534</td>\n",
              "      <td>2021-01-09</td>\n",
              "      <td>5</td>\n",
              "      <td>period_13_30</td>\n",
              "      <td>D</td>\n",
              "    </tr>\n",
              "    <tr>\n",
              "      <th>33440</th>\n",
              "      <td>84535</td>\n",
              "      <td>2021-01-09</td>\n",
              "      <td>5</td>\n",
              "      <td>period_13_30</td>\n",
              "      <td>F</td>\n",
              "    </tr>\n",
              "  </tbody>\n",
              "</table>\n",
              "<p>33441 rows × 5 columns</p>\n",
              "</div>"
            ],
            "text/plain": [
              "       segment_id       date  weekday        period LOS\n",
              "0              26 2021-04-16        4   period_0_30   A\n",
              "1              33 2020-08-02        6  period_23_30   C\n",
              "2              33 2020-08-03        0   period_0_00   D\n",
              "3              67 2021-03-09        1   period_9_30   B\n",
              "4              67 2021-03-23        1   period_9_30   B\n",
              "...           ...        ...      ...           ...  ..\n",
              "33436       84529 2021-01-05        1   period_8_00   F\n",
              "33437       84533 2021-01-09        5  period_13_30   F\n",
              "33438       84533 2021-04-22        3   period_5_00   F\n",
              "33439       84534 2021-01-09        5  period_13_30   D\n",
              "33440       84535 2021-01-09        5  period_13_30   F\n",
              "\n",
              "[33441 rows x 5 columns]"
            ]
          },
          "metadata": {},
          "execution_count": 26
        }
      ]
    }
  ]
}